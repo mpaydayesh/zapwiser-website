{
 "cells": [
  {
   "cell_type": "markdown",
   "metadata": {},
   "source": [
    "# Git Workflow Guide: Branch, Commit, Push & Merge\n",
    "\n",
    "This notebook provides a reference for common Git operations in the development workflow."
   ]
  },
  {
   "cell_type": "markdown",
   "metadata": {},
   "source": [
    "## 1. Creating a Git Branch\n",
    "\n",
    "```bash\n",
    "# Make sure you're on the main branch first\n",
    "git checkout main\n",
    "\n",
    "# Pull the latest changes from main\n",
    "git pull origin main\n",
    "\n",
    "# Create a new branch\n",
    "git checkout -b feature/your-feature-name\n",
    "\n",
    "# Verify you're on the new branch\n",
    "git status\n",
    "```"
   ]
  },
  {
   "cell_type": "markdown",
   "metadata": {},
   "source": [
    "## 2. Making Commits\n",
    "\n",
    "```bash\n",
    "# Check what files have changed\n",
    "git status\n",
    "\n",
    "# Add specific files\n",
    "git add file1.html file2.css\n",
    "\n",
    "# Add all changed files\n",
    "git add .\n",
    "\n",
    "# Create a commit with a descriptive message\n",
    "git commit -m \"Add feature: brief description of changes\"\n",
    "\n",
    "# For multiple related changes, group them in separate commits\n",
    "git add specific-files-for-change-1\n",
    "git commit -m \"Change 1: description\"\n",
    "\n",
    "git add specific-files-for-change-2\n",
    "git commit -m \"Change 2: description\"\n",
    "```"
   ]
  },
  {
   "cell_type": "markdown",
   "metadata": {},
   "source": [
    "## 3. Pushing to GitHub\n",
    "\n",
    "```bash\n",
    "# Push your branch to GitHub\n",
    "git push origin feature/your-feature-name\n",
    "\n",
    "# If it's your first push to this branch, set upstream\n",
    "git push -u origin feature/your-feature-name\n",
    "```"
   ]
  },
  {
   "cell_type": "markdown",
   "metadata": {},
   "source": [
    "## 4. Creating a Pull Request and Merging\n",
    "\n",
    "### Web UI Method (Recommended)\n",
    "\n",
    "1. **Go to your repository on GitHub**\n",
    "2. **Create a Pull Request:**\n",
    "   - You'll usually see a prompt for your recently pushed branch\n",
    "   - Or go to the \"Pull Requests\" tab and click \"New Pull Request\"\n",
    "   - Select `main` as the base and your feature branch as the compare\n",
    "3. **Fill in Pull Request details:**\n",
    "   - Title: Concise description of the feature/changes\n",
    "   - Description: More details about the changes and any testing done\n",
    "4. **Review the changes**\n",
    "5. **Click \"Create Pull Request\"**\n",
    "6. **Merge:** \n",
    "   - Click \"Merge Pull Request\" \n",
    "   - Confirm the merge\n",
    "7. **Delete the branch** (optional but recommended for cleanup)"
   ]
  },
  {
   "cell_type": "markdown",
   "metadata": {},
   "source": [
    "### Command Line Method\n",
    "\n",
    "```bash\n",
    "# Switch back to the main branch\n",
    "git checkout main\n",
    "\n",
    "# Merge your feature branch\n",
    "git merge feature/your-feature-name\n",
    "\n",
    "# Push the merged changes to GitHub\n",
    "git push origin main\n",
    "\n",
    "# Delete the feature branch locally (optional)\n",
    "git branch -d feature/your-feature-name\n",
    "\n",
    "# Delete the feature branch on GitHub (optional)\n",
    "git push origin --delete feature/your-feature-name\n",
    "```"
   ]
  },
  {
   "cell_type": "markdown",
   "metadata": {},
   "source": [
    "## 5. Keeping Your Branch Updated with Main\n",
    "\n",
    "```bash\n",
    "# While on your feature branch, pull in changes from main\n",
    "git fetch origin\n",
    "git merge origin/main\n",
    "\n",
    "# Or use rebase for a cleaner history\n",
    "git fetch origin\n",
    "git rebase origin/main\n",
    "```"
   ]
  },
  {
   "cell_type": "markdown",
   "metadata": {},
   "source": [
    "## 6. Handling Merge Conflicts\n",
    "\n",
    "```bash\n",
    "# If you encounter conflicts during merge/rebase\n",
    "# Edit the conflicted files to resolve the conflicts\n",
    "# Then mark as resolved\n",
    "git add resolved-file.ext\n",
    "\n",
    "# Continue the merge\n",
    "git merge --continue\n",
    "\n",
    "# Or continue the rebase\n",
    "git rebase --continue\n",
    "```"
   ]
  },
  {
   "cell_type": "markdown",
   "metadata": {},
   "source": [
    "## Best Practices\n",
    "\n",
    "- Use descriptive commit messages and branch names that reflect your changes\n",
    "- Keep commits focused on single logical changes\n",
    "- Regularly pull changes from the main branch to avoid large merge conflicts\n",
    "- Consider using Git hooks for enforcing code quality checks\n",
    "- Test your changes before creating a pull request"
   ]
  },
  {
   "cell_type": "markdown",
   "metadata": {},
   "source": [
    "## Examples for Zapwiser Website\n",
    "\n",
    "### Creating a new blog post branch\n",
    "```bash\n",
    "git checkout master\n",
    "git pull origin master\n",
    "git checkout -b feature/new-blog-post\n",
    "```\n",
    "\n",
    "### Committing changes for a new blog post\n",
    "```bash\n",
    "# Add image generation files\n",
    "git add assets/images/blog/new-post-image.jpg\n",
    "git commit -m \"Add images for new blog post\"\n",
    "\n",
    "# Add HTML changes\n",
    "git add blog.html index.html\n",
    "git commit -m \"Add new blog post content and update homepage\"\n",
    "```\n",
    "\n",
    "### Pushing to GitHub\n",
    "```bash\n",
    "git push origin feature/new-blog-post\n",
    "```\n",
    "\n",
    "After these steps, follow the Web UI method to create a pull request and merge into master."
   ]
  }
 ],
 "metadata": {
  "kernelspec": {
   "display_name": "Python 3",
   "language": "python",
   "name": "python3"
  },
  "language_info": {
   "codemirror_mode": {
    "name": "ipython",
    "version": 3
   },
   "file_extension": ".py",
   "mimetype": "text/x-python",
   "name": "python",
   "nbconvert_exporter": "python",
   "pygments_lexer": "ipython3",
   "version": "3.8.10"
  }
 },
 "nbformat": 4,
 "nbformat_minor": 4
}
